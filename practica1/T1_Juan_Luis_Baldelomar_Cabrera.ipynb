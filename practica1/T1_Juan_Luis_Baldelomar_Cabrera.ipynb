{
 "cells": [
  {
   "cell_type": "markdown",
   "metadata": {},
   "source": [
    "# Tarea1: Juan Luis Baldelomar Cabrera"
   ]
  },
  {
   "cell_type": "markdown",
   "metadata": {},
   "source": [
    "<h2> link de datos </h2>"
   ]
  },
  {
   "cell_type": "markdown",
   "metadata": {},
   "source": [
    "<a href=\"https://drive.google.com/file/d/1LLQ872UvM55O0fGfLvTUn5EdX_BlOiof/view?usp=sharing\">LINK DATOS</a>"
   ]
  },
  {
   "cell_type": "code",
   "execution_count": 31,
   "metadata": {},
   "outputs": [],
   "source": [
    "import re\n",
    "import glob\n",
    "import nltk "
   ]
  },
  {
   "cell_type": "code",
   "execution_count": 25,
   "metadata": {},
   "outputs": [
    {
     "name": "stdout",
     "output_type": "stream",
     "text": [
      "number of documents:  759\n"
     ]
    }
   ],
   "source": [
    "filenames = glob.glob('conferencias_fecha/*')\n",
    "print('number of documents: ', len(filenames))"
   ]
  },
  {
   "cell_type": "markdown",
   "metadata": {},
   "source": [
    "# 2. Vistazo a los Datos"
   ]
  },
  {
   "cell_type": "markdown",
   "metadata": {},
   "source": [
    "<h3> 1. carga de datos a un solo string y obtener tokens </h3>"
   ]
  },
  {
   "cell_type": "code",
   "execution_count": 4,
   "metadata": {},
   "outputs": [],
   "source": [
    "conf_str = \"\"\n",
    "for filename in filenames:\n",
    "    file = open(filename, 'r')\n",
    "    conf_str += file.read()"
   ]
  },
  {
   "cell_type": "code",
   "execution_count": 125,
   "metadata": {},
   "outputs": [
    {
     "name": "stdout",
     "output_type": "stream",
     "text": [
      "cantidad de caracteres:  47969144\n"
     ]
    }
   ],
   "source": [
    "print('cantidad de caracteres: ', len(conf_str))"
   ]
  },
  {
   "cell_type": "markdown",
   "metadata": {},
   "source": [
    "<h4> Obtener Tokens </h4>\n",
    "\n",
    "Para ello utilizamos la función split, pero primero dividimos el string de archivos en líneas para no considerar los saltos de línea ('\\n') y luego dividimos por espacios"
   ]
  },
  {
   "cell_type": "code",
   "execution_count": 44,
   "metadata": {},
   "outputs": [],
   "source": [
    "# get lines\n",
    "lines = conf_str.split('\\n')\n",
    "tokens = []\n",
    "for line in lines:\n",
    "    # get tokens in each line\n",
    "    tokens += line.split(' ')"
   ]
  },
  {
   "cell_type": "markdown",
   "metadata": {},
   "source": [
    "<h3> 2. Contar cantidad de Tokens </h3>"
   ]
  },
  {
   "cell_type": "code",
   "execution_count": 120,
   "metadata": {},
   "outputs": [
    {
     "name": "stdout",
     "output_type": "stream",
     "text": [
      "number of tokens:  8153637\n"
     ]
    }
   ],
   "source": [
    "print('number of tokens: ', len(tokens))"
   ]
  },
  {
   "cell_type": "markdown",
   "metadata": {},
   "source": [
    "<h3> 3. Obtener Vocabulario (mostrar algunos tokens) y Mostrar su Longitud </h3>"
   ]
  },
  {
   "cell_type": "code",
   "execution_count": 46,
   "metadata": {},
   "outputs": [
    {
     "name": "stdout",
     "output_type": "stream",
     "text": [
      "number of unique tokens:  175357\n"
     ]
    }
   ],
   "source": [
    "unique_tokens = list(set(tokens))\n",
    "print(\"number of unique tokens: \", len(unique_tokens))"
   ]
  },
  {
   "cell_type": "code",
   "execution_count": 24,
   "metadata": {},
   "outputs": [
    {
     "data": {
      "text/plain": [
       "['',\n",
       " 'recibí,',\n",
       " 'pieza-',\n",
       " 'autoricé?',\n",
       " 'Vivó,',\n",
       " 'Twitter-',\n",
       " 'linchamiento?,',\n",
       " 'sellado.',\n",
       " 'leen?',\n",
       " 'citaron',\n",
       " 'Norteamérica?,',\n",
       " 'Chevron?',\n",
       " 'amasan',\n",
       " 'actuarían',\n",
       " 'deterioro.',\n",
       " 'gobernabilidad',\n",
       " 'jovencitas',\n",
       " 'apóyenos,',\n",
       " 'teóricas.',\n",
       " 'diseñador']"
      ]
     },
     "execution_count": 24,
     "metadata": {},
     "output_type": "execute_result"
    }
   ],
   "source": [
    "unique_tokens[:10] + unique_tokens[-10: ]"
   ]
  },
  {
   "cell_type": "markdown",
   "metadata": {},
   "source": [
    "<h3> 4. Riqueza de Vocabulario </h3>"
   ]
  },
  {
   "cell_type": "code",
   "execution_count": 47,
   "metadata": {},
   "outputs": [
    {
     "name": "stdout",
     "output_type": "stream",
     "text": [
      "riqueza :  46.49735682065729\n"
     ]
    }
   ],
   "source": [
    "quot = len(tokens)/len(unique_tokens)\n",
    "print('riqueza de vocabulario: ', quot)"
   ]
  },
  {
   "cell_type": "markdown",
   "metadata": {},
   "source": [
    "<h3> 5. Pasos 1, 2, 3 y 4 con texto en minúsculas </h3>\n",
    "\n",
    "Podemos observar que la cantidad de palabras diferentes disminuye, lo cual tiene sentido porque ahora palabras que tienen las mismas letras pero en mayúsculas o minúsculas no hacen diferencia porque todas fueron convertidas a minúsculas. También podemos observar que el cociente entre la cantidad total de palabras y las palabras distintas aumenta, pues siguen existiendo la misma cantidad de palabras, pero la cantidad de palabras diferentes disminuyó. "
   ]
  },
  {
   "cell_type": "code",
   "execution_count": 115,
   "metadata": {},
   "outputs": [],
   "source": [
    "lower_str = conf_str.lower()"
   ]
  },
  {
   "cell_type": "code",
   "execution_count": 116,
   "metadata": {},
   "outputs": [
    {
     "name": "stdout",
     "output_type": "stream",
     "text": [
      "number of tokens:  8153637\n",
      "number of unique tokens:  161993\n",
      "riqueza de vocabulario:  50.33326748686672\n"
     ]
    }
   ],
   "source": [
    "# get lines\n",
    "lines = lower_str.split('\\n')\n",
    "tokens = []\n",
    "for line in lines:\n",
    "    # get tokens in each line\n",
    "    tokens += line.split(' ')\n",
    "\n",
    "# length of vocabulary\n",
    "print(\"number of tokens: \", len(tokens))\n",
    "\n",
    "# unique tokens and length\n",
    "unique_tokens = list(set(tokens))\n",
    "print(\"number of unique tokens: \", len(unique_tokens))\n",
    "\n",
    "# riqueza\n",
    "quot = len(tokens)/len(unique_tokens)\n",
    "print('riqueza de vocabulario: ', quot)"
   ]
  },
  {
   "cell_type": "markdown",
   "metadata": {},
   "source": [
    "<h3> 6. RegExp de NLTK </h3>"
   ]
  },
  {
   "cell_type": "code",
   "execution_count": 122,
   "metadata": {},
   "outputs": [],
   "source": [
    "from nltk.tokenize import RegexpTokenizer"
   ]
  },
  {
   "cell_type": "code",
   "execution_count": 91,
   "metadata": {},
   "outputs": [
    {
     "name": "stdout",
     "output_type": "stream",
     "text": [
      "number of tokens:  7902141\n",
      "number of unique tokens:  76169\n"
     ]
    }
   ],
   "source": [
    "tokenizer = RegexpTokenizer('[a-zA-Zá-úÁ-Ú]+')\n",
    "tokens = tokenizer.tokenize(conf_str)\n",
    "print('number of tokens: ', len(tokens))\n",
    "\n",
    "unique_tokens = list(set(tokens))\n",
    "print(\"number of unique tokens: \", len(unique_tokens))"
   ]
  },
  {
   "cell_type": "markdown",
   "metadata": {},
   "source": [
    "**Carga de Tokens a un objeto Text() de nltk**"
   ]
  },
  {
   "cell_type": "code",
   "execution_count": 92,
   "metadata": {},
   "outputs": [],
   "source": [
    "nltk_tokens = nltk.Text(tokens)"
   ]
  },
  {
   "cell_type": "markdown",
   "metadata": {},
   "source": [
    "<h3> 7. TweetTokenizer </h3>\n",
    "\n",
    "En esta sección utilizamos el tokenizador de Tweets de NLTK. Podemos ver que en efecto la cantidad de tokens es mayor que en el ejercicio anterior, debido a que se reconocen más tokens que solo palabras con mayúsculas y minúsculas. Sin embargo, la cantidad de tokens diferentes es menor, y esto se debe a que el texto en este ejercicio es primero convertido a minúsculas, y en el ejercicio anterior este paso no se realizó."
   ]
  },
  {
   "cell_type": "code",
   "execution_count": 6,
   "metadata": {},
   "outputs": [
    {
     "name": "stdout",
     "output_type": "stream",
     "text": [
      "number of tokens:  9234756\n",
      "number of unique tokens:  71646\n"
     ]
    }
   ],
   "source": [
    "from nltk.tokenize import TweetTokenizer\n",
    "\n",
    "# lower string\n",
    "lower_str = conf_str.lower()\n",
    "  \n",
    "# Create a reference variable for Class TweetTokenizer\n",
    "tk = TweetTokenizer()\n",
    "  \n",
    "# Use tokenize method\n",
    "tokens = tk.tokenize(lower_str)\n",
    "print('number of tokens: ', len(tokens))\n",
    "\n",
    "unique_tokens = list(set(tokens))\n",
    "print(\"number of unique tokens: \", len(unique_tokens))"
   ]
  },
  {
   "cell_type": "markdown",
   "metadata": {},
   "source": [
    "**Carga de Tokens a un objeto Text() de nltk**"
   ]
  },
  {
   "cell_type": "code",
   "execution_count": 8,
   "metadata": {},
   "outputs": [],
   "source": [
    "text_tokens = nltk.Text(tokens)"
   ]
  },
  {
   "cell_type": "markdown",
   "metadata": {},
   "source": [
    "<h4> Si ahora convertimos el texto a minúsculas y utilizamos el tokenizador del ejercicio anterior, podemos ver que en efecto la cantidad de tokens diferentes es menor que utilizando el TweetTokenizer </h4>"
   ]
  },
  {
   "cell_type": "code",
   "execution_count": 124,
   "metadata": {},
   "outputs": [
    {
     "name": "stdout",
     "output_type": "stream",
     "text": [
      "number of unique tokens:  66353\n"
     ]
    }
   ],
   "source": [
    "tokenizer = RegexpTokenizer('[a-zA-Zá-úÁ-Ú]+')\n",
    "tokens = tokenizer.tokenize(conf_str.lower())\n",
    "unique_tokens = list(set(tokens))\n",
    "print(\"number of unique tokens: \", len(unique_tokens))"
   ]
  },
  {
   "cell_type": "markdown",
   "metadata": {},
   "source": [
    "# 3. Functiones NLTK"
   ]
  },
  {
   "cell_type": "markdown",
   "metadata": {},
   "source": [
    "<h3>1. Función Concordance </h3>\n",
    "Buscaremos los contextos de palabras relacionadas a problemas que han sido comunes o se han escuchado en esta administración. \n",
    "Las palabras son:\n",
    "\n",
    "1. corrupción\n",
    "2. huachicoleo\n",
    "3. aeropuerto\n",
    "4. pobre\n",
    "5. democracia"
   ]
  },
  {
   "cell_type": "code",
   "execution_count": 17,
   "metadata": {},
   "outputs": [
    {
     "name": "stdout",
     "output_type": "stream",
     "text": [
      "Displaying 25 of 6659 matches:\n",
      "permite ni se permitirán actos de corrupción . es cuanto , presidente . santia\n",
      "presume la existencia de actos de corrupción al venderlas a sobreprecio al gob\n",
      "argados de vigilar de que no haya corrupción al interior del poder judicial y \n",
      "para investigar posibles casos de corrupción . y ya lo tercero es lo que pueda\n",
      "sexenio que sorprende por su gran corrupción y opacidad . y , presidente , ¿ s\n",
      "uviese o continuara el régimen de corrupción que imperaba , el régimen de priv\n",
      "do esto por los negocios , por la corrupción , no les importaba extraer el gas\n",
      "aldó , porque hay que combatir la corrupción , hay que acabar con todas estas \n",
      "e defienden el antiguo régimen de corrupción ? en los medios , y eso no en tod\n",
      "do en chihuahua para desterrar la corrupción y la impunidad , así como para co\n",
      "ción , es el combate frontal a la corrupción y a la impunidad . ustedes escuch\n",
      "mprendimos en chihuahua contra la corrupción , porque cuando se asume una band\n",
      " de profesionalismo y también por corrupción . baste decir que en la época en \n",
      "? que han sido señaladas de mucha corrupción , que es por donde ingresa toda l\n",
      "actúan por consigna , a veces por corrupción , no todos , desde luego . pero h\n",
      ", porque el fonden era un hoyo de corrupción , un hoyo negro de corrupción , e\n",
      " de corrupción , un hoyo negro de corrupción , eso era el fonden . era una prá\n",
      "otos y muchas cosas , imperaba la corrupción . entonces , ahora cada dependenc\n",
      "á en esta función para limpiar de corrupción todo el sistema de aduanas , porq\n",
      "eguntando sobre posibles actos de corrupción , ayer una compañera hizo , bueno\n",
      "dad para nadie , no se permite la corrupción , no se permite la impunidad , pe\n",
      "orque no vamos a ser cómplices de corrupción . entonces , hacen campañas en co\n",
      "ere continuar con el combate a la corrupción y a la impunidad , y seguir hacie\n",
      "es también tenían que permitir la corrupción de coyotes y de intermediarios . \n",
      "gnifica , de asaltos , también de corrupción . si se tiene la sucursal del ban\n"
     ]
    }
   ],
   "source": [
    "text_tokens.concordance('corrupción')"
   ]
  },
  {
   "cell_type": "code",
   "execution_count": 18,
   "metadata": {},
   "outputs": [
    {
     "name": "stdout",
     "output_type": "stream",
     "text": [
      "Displaying 25 of 120 matches:\n",
      "e . entre todos vamos a vencer el huachicoleo . todos estamos participando y ha\n",
      " parte denunciante en esta red de huachicoleo de los últimos 18 años . en este \n",
      "dijo el presidente ayer de que el huachicoleo se extendía más allá de la gasoli\n",
      "ma , pero es una posibilidad , el huachicoleo en el crudo . pregunta : muchas g\n",
      "én vamos a revisar lo del posible huachicoleo en la venta del crudo , porque na\n",
      "ia , sobre todo con la bandera de huachicoleo , ¿ qué opinión le merece estos d\n",
      "ia , sobre todo con la bandera de huachicoleo qué opinión le merece estos datos\n",
      "ue iniciaron su propio combate al huachicoleo de cuotas sindicales . ¿ qué opin\n",
      "vidad de robo de combustible , el huachicoleo , en los ductos que van de salama\n",
      " interlocutor : porque fue lo del huachicoleo , usted les pidió paciencia . pre\n",
      "yudaron para casi terminar con el huachicoleo . hubo - no hay que olvidarlo - b\n",
      "mismo tema y se habla también del huachicoleo de empresarios lecheros en la com\n",
      "orta . claro que no debe de haber huachicoleo , pero ahorita lo que quiero es r\n",
      "cursos federales para el tema del huachicoleo y apoderarse justo de esos progra\n",
      "participar en esa lucha contra el huachicoleo eléctrico . pero también denuncia\n",
      "mbién . ahora que está de moda el huachicoleo , si me permite llamarle también \n",
      " llamarle también , otra forma de huachicoleo , que el ciudadano llega a la gas\n",
      "bierno para combatir también este huachicoleo contra el ciudadano ? presidente \n",
      "este personaje en este asunto del huachicoleo , tanto arriba como abajo ? , ¿ y\n",
      "idad ? que se ha terminado con el huachicoleo de la compra de medicamentos , et\n",
      "esidente instruyó acabar con este huachicoleo carretero , de casi 10 mil millon\n",
      "a , con este que usted ha llamado huachicoleo del agua , y si ya calculó si va \n",
      "ad de inteligencia financiera por huachicoleo y lavado de dinero . y la otra de\n",
      "hablé de que se iba a terminar el huachicoleo arriba y abajo , y dije muchas ve\n",
      "ión , está obviamente quitando el huachicoleo en el gas , en el petróleo , las \n"
     ]
    }
   ],
   "source": [
    "text_tokens.concordance('huachicoleo')"
   ]
  },
  {
   "cell_type": "code",
   "execution_count": 19,
   "metadata": {},
   "outputs": [
    {
     "name": "stdout",
     "output_type": "stream",
     "text": [
      "Displaying 25 of 2016 matches:\n",
      " se anunció la construcción de un aeropuerto y un camino a chalacatepec que co\n",
      "eo avances en la construcción del aeropuerto internacional ‘ general felipe án\n",
      "os avances en la construcción del aeropuerto internacional ' felipe ángeles ' \n",
      "os avances en la construcción del aeropuerto internacional ‘ felipe ángeles ’ \n",
      " revertir con la construcción del aeropuerto de santa lucía . pero lo que me p\n",
      "or el gobierno . ya empezó lo del aeropuerto , que nos llevó tiempo . ya estam\n",
      "que se presenta actualmente en el aeropuerto de la ciudad de méxico , cuál es \n",
      "celación , de la construcción del aeropuerto en el lago de texcoco . como no n\n",
      "uestas , no sólo para el caso del aeropuerto , sino en general , porque segura\n",
      " todos los elementos sobre lo del aeropuerto o sobre el sistema aeroportuario \n",
      "sandoval para la construcción del aeropuerto felipe ángeles , en santa lucía y\n",
      " el problema de la saturación del aeropuerto ‘ benito juárez ’ . se canceló el\n",
      "la decisión de la cancelación del aeropuerto . por lo pronto decirles que la s\n",
      "ar a tres aeropuertos : el actual aeropuerto de la ciudad de méxico , que tend\n",
      "á modificaciones que veremos . el aeropuerto internacional de toluca , que hoy\n",
      "que hoy está subutilizado , es un aeropuerto que hoy está manejando 600 mil pa\n",
      "incluso podría ampliarse más . el aeropuerto de la ciudad de méxico tendrá una\n",
      "a comodidad . y el desarrollo del aeropuerto ‘ felipe ángeles ’ en la base aér\n",
      "rá en la zona que iba a ocupar el aeropuerto de texcoco y la región aledaña , \n",
      "món para la ciudad de méxico . el aeropuerto de la ciudad de méxico va a tener\n",
      "so va a dar una mayor amplitud al aeropuerto de la ciudad de méxico y habrá un\n",
      "movimiento por el suelo mismo del aeropuerto . la terminal 3 va a tener obviam\n",
      " seguridad . y se instalará en el aeropuerto de la ciudad de méxico un sistema\n",
      "ad de utilizar simultáneamente el aeropuerto actual de la ciudad de méxico , e\n",
      "rá estar lista en tres años , del aeropuerto de santa lucía . no habrá ningún \n"
     ]
    }
   ],
   "source": [
    "text_tokens.concordance('aeropuerto')"
   ]
  },
  {
   "cell_type": "code",
   "execution_count": 20,
   "metadata": {},
   "outputs": [
    {
     "name": "stdout",
     "output_type": "stream",
     "text": [
      "Displaying 25 of 512 matches:\n",
      " la señal . pero donde vive la gente pobre , en la sierra , en los valles , en \n",
      "puede haber gobierno rico con pueblo pobre . para eso es la ley de austeridad .\n",
      "onde vive la gente más humilde , más pobre , tengan acceso al internet . ahora \n",
      "s presupuesto para ayudar a la gente pobre ; me dio oportunidad de explicar lo \n",
      "ra de hernández , que es buenísima . pobre hernández le va a llover , pero ni m\n",
      "ora hay elecciones en chile . ¡ no , pobre candidato de las fuerzas progresista\n",
      " a la gente humilde , a la gente más pobre , vamos a atemperar el empobrecimien\n",
      "e utilizara para un apoyo a la gente pobre , para la compra de ambulancias , pa\n",
      "ay esa creencia . o lo otro , ‘ eres pobre porque no trabajas , porque eres un \n",
      "quien ’ , o sea , se muere una gente pobre y todos cooperan para el ataúd , par\n",
      "puede haber gobierno rico con pueblo pobre . y hay que regresar a juárez . inte\n",
      "a gente más humilde , a la gente más pobre , a los más abandonados de méxico , \n",
      "a gente más humilde , a la gente más pobre . segundo , microempresas , las más \n",
      "lo fundamental , proteger a la gente pobre con programas de bienestar y los cré\n",
      " a su pueblo , sobre todo a la gente pobre ; y también somos solidarios con los\n",
      "uerrero , sobre todo de la gente más pobre , es mi compromiso . hay abusos , se\n",
      "as de ahorro , y gente mayor , gente pobre , que va juntando sus recursos y los\n",
      "que no transa , no avanza ; político pobre , pobre político ; la moral es un ár\n",
      "ransa , no avanza ; político pobre , pobre político ; la moral es un árbol que \n",
      "ncia a la gente humilde , a la gente pobre . es muy satisfactorio poder decir q\n",
      " va a haber gobierno rico con pueblo pobre ? ¿ cómo sueldos de 700 mil pesos me\n",
      " de los estados y es gente muy , muy pobre , vienen y - por cierto , que luego \n",
      "a , los dirigentes , gente humilde , pobre , ¿ qué delitos les pusieron ? , lav\n",
      "s tu deber ’ ; en cambio , una gente pobre , humilde , sabiendo de que es su pr\n",
      "tiende de manera gratuita a la gente pobre . aquí está lo que llevamos a cabo h\n"
     ]
    }
   ],
   "source": [
    "text_tokens.concordance('pobre')"
   ]
  },
  {
   "cell_type": "code",
   "execution_count": 21,
   "metadata": {},
   "outputs": [
    {
     "name": "stdout",
     "output_type": "stream",
     "text": [
      "Displaying 25 of 2031 matches:\n",
      "n tiempo , cuando el éxodo por la democracia , que tuve tratos con gutiérrez b\n",
      "de la voluntad del pueblo . en la democracia es el pueblo el que decide , es e\n",
      "sidente madero , el apóstol de la democracia , que lo cercaron los porfiristas\n",
      "se gran presiente , apóstol de la democracia . ellos crearon las condiciones p\n",
      "y se convirtió en un traidor a la democracia , entre otras cosas ; y de calder\n",
      " corriente de pensamiento . en la democracia tiene que haber todas las expresi\n",
      "amos por establecer en méxico una democracia y que estamos a favor de la críti\n",
      "e me ayuden para que también haya democracia en el sindicato . tiene que haber\n",
      "en el sindicato . tiene que haber democracia en la familia , con todo respeto \n",
      "n la familia , con todo respeto . democracia en la escuela . democracia en el \n",
      "peto . democracia en la escuela . democracia en el sindicato . democracia en l\n",
      "la . democracia en el sindicato . democracia en la sociedad , la democracia co\n",
      " . democracia en la sociedad , la democracia como forma de vida , como forma d\n",
      "e no haya imposiciones , que haya democracia y que represente el mejor ; mujer\n",
      " nosotros estamos luchando por la democracia , queremos la transformación del \n",
      "e ellos están ahí para impedir la democracia , de tiempo atrás , el presidente\n",
      "ya es sabido . afortunadamente la democracia no depende de ellos . ellos puede\n",
      "en poner obstáculos para que haya democracia , pero la democracia la hace la v\n",
      "ara que haya democracia , pero la democracia la hace la valer el pueblo , como\n",
      "lo , kratos es poder , por eso es democracia , es el poder del pueblo . y aquí\n",
      ". y aquí en nuestro país no había democracia porque el pueblo no tenía el pode\n",
      " nuestro . por ejemplo , lo de la democracia sindical , nosotros habíamos apro\n",
      " legalidad y que se haga valer la democracia , que sean auténticos , verdadero\n",
      " partido por la libertad y por la democracia . interlocutor : presidente , fin\n",
      "éxico , un acuerdo en favor de la democracia y el acuerdo es para que no se ut\n"
     ]
    }
   ],
   "source": [
    "text_tokens.concordance('democracia')"
   ]
  },
  {
   "cell_type": "markdown",
   "metadata": {},
   "source": [
    "<h3> 2. Palabras con contextos similares </h3>\n",
    "\n",
    "Veremos palabras similares a dos palabras:\n",
    "\n",
    "1. macanear\n",
    "2. huachicoleo\n",
    "\n",
    "Luego veremos los contextos que comparten estas palabras y las palabras similares a ellas."
   ]
  },
  {
   "cell_type": "code",
   "execution_count": 41,
   "metadata": {},
   "outputs": [
    {
     "name": "stdout",
     "output_type": "stream",
     "text": [
      "pemex la méxico covid días hoy a seguridad todos los salud eso las\n",
      "dinero un estos información gobierno todo marina\n"
     ]
    }
   ],
   "source": [
    "text_tokens.similar('macanear')"
   ]
  },
  {
   "cell_type": "code",
   "execution_count": 42,
   "metadata": {},
   "outputs": [
    {
     "name": "stdout",
     "output_type": "stream",
     "text": [
      "de_presidente de_más a_y a_he\n"
     ]
    }
   ],
   "source": [
    "text_tokens.common_contexts(['macanear', 'pemex'])"
   ]
  },
  {
   "cell_type": "code",
   "execution_count": 28,
   "metadata": {},
   "outputs": [
    {
     "name": "stdout",
     "output_type": "stream",
     "text": [
      "país gobierno estado año pueblo presidente caso tema que y acuerdo\n",
      "tiempo dinero programa bienestar covid día presupuesto trabajo\n",
      "problema\n"
     ]
    }
   ],
   "source": [
    "text_tokens.similar('huachicoleo')"
   ]
  },
  {
   "cell_type": "code",
   "execution_count": 30,
   "metadata": {},
   "outputs": [
    {
     "name": "stdout",
     "output_type": "stream",
     "text": [
      "el_en del_y del_en el_se de_qué al_de del_de de_que al_en el_es de_y\n",
      "el_que al_y de_de el_si el_de por_y el_arriba el_a por_de un_que\n",
      "el_del este_la el_allá al_porque del_cómo ese_y el_eso el_yo el_muchas\n",
      "el_dice el_ya el_por al_como el_presidente hay_en el_el del_se de_para\n"
     ]
    }
   ],
   "source": [
    "text_tokens.common_contexts(['huachicoleo', 'dinero'], num=40)"
   ]
  },
  {
   "cell_type": "markdown",
   "metadata": {},
   "source": [
    "<h3> 3. Dispersion Plot </h3>\n",
    "\n",
    "Primero debemos proceder a ordenar los nombres de los archivos. Podemos ver que al imprimir los nombres de los archivos estos están desordenados. Sin embargo, por el formato con el que fueron asignados los nombres ('YYYY-MM-DD\\_contadorIncremental'), al hacer un ordenamiento de ellos obtenemos los archivos ordenados de manera cronológica."
   ]
  },
  {
   "cell_type": "code",
   "execution_count": 26,
   "metadata": {},
   "outputs": [
    {
     "data": {
      "text/plain": [
       "['conferencias_fecha/2021-07-21',\n",
       " 'conferencias_fecha/2021-02-18',\n",
       " 'conferencias_fecha/2021-08-09',\n",
       " 'conferencias_fecha/2020-12-30',\n",
       " 'conferencias_fecha/2021-11-08',\n",
       " 'conferencias_fecha/2019-11-05',\n",
       " 'conferencias_fecha/2019-04-26',\n",
       " 'conferencias_fecha/2018-12-15',\n",
       " 'conferencias_fecha/2019-01-16',\n",
       " 'conferencias_fecha/2019-01-31',\n",
       " 'conferencias_fecha/2021-11-22',\n",
       " 'conferencias_fecha/2019-02-04',\n",
       " 'conferencias_fecha/2019-06-05',\n",
       " 'conferencias_fecha/2021-05-13',\n",
       " 'conferencias_fecha/2020-01-10',\n",
       " 'conferencias_fecha/2019-12-20',\n",
       " 'conferencias_fecha/2021-03-25',\n",
       " 'conferencias_fecha/2021-12-06',\n",
       " 'conferencias_fecha/2019-09-27',\n",
       " 'conferencias_fecha/2021-05-19']"
      ]
     },
     "execution_count": 26,
     "metadata": {},
     "output_type": "execute_result"
    }
   ],
   "source": [
    "filenames[:20]"
   ]
  },
  {
   "cell_type": "markdown",
   "metadata": {},
   "source": [
    "<h4>Ordenamos los archivos de manera ascendente</h4>"
   ]
  },
  {
   "cell_type": "code",
   "execution_count": 27,
   "metadata": {},
   "outputs": [
    {
     "data": {
      "text/plain": [
       "['conferencias_fecha/2016-12-17',\n",
       " 'conferencias_fecha/2018-12-07',\n",
       " 'conferencias_fecha/2018-12-10',\n",
       " 'conferencias_fecha/2018-12-11',\n",
       " 'conferencias_fecha/2018-12-12',\n",
       " 'conferencias_fecha/2018-12-15',\n",
       " 'conferencias_fecha/2018-12-17',\n",
       " 'conferencias_fecha/2018-12-18',\n",
       " 'conferencias_fecha/2018-12-19',\n",
       " 'conferencias_fecha/2018-12-20',\n",
       " 'conferencias_fecha/2018-12-22',\n",
       " 'conferencias_fecha/2018-12-23',\n",
       " 'conferencias_fecha/2018-12-24',\n",
       " 'conferencias_fecha/2018-12-26',\n",
       " 'conferencias_fecha/2018-12-27',\n",
       " 'conferencias_fecha/2018-12-28',\n",
       " 'conferencias_fecha/2018-12-29',\n",
       " 'conferencias_fecha/2019-01-02',\n",
       " 'conferencias_fecha/2019-01-03',\n",
       " 'conferencias_fecha/2019-01-03_2']"
      ]
     },
     "execution_count": 27,
     "metadata": {},
     "output_type": "execute_result"
    }
   ],
   "source": [
    "filenames.sort()\n",
    "filenames[:20]"
   ]
  },
  {
   "cell_type": "markdown",
   "metadata": {},
   "source": [
    "<h4> Ahora si podemos proceder a leer nuevamente el texto de cada archivo ya que se encontrará ordenado. </h4>"
   ]
  },
  {
   "cell_type": "code",
   "execution_count": 39,
   "metadata": {},
   "outputs": [],
   "source": [
    "import nltk\n",
    "from nltk.tokenize import TweetTokenizer\n",
    "ord_str = \"\"\n",
    "for filename in filenames:\n",
    "    file = open(filename, 'r')\n",
    "    ord_str += file.read()\n",
    "\n",
    "# lower text\n",
    "ord_str = ord_str.lower()\n",
    "\n",
    "# Create a reference variable for Class TweetTokenizer\n",
    "tk = TweetTokenizer()\n",
    "  \n",
    "# Use tokenize method and store them in Text object\n",
    "ord_tokens = tk.tokenize(ord_str)\n",
    "ord_tokens = nltk.Text(ord_tokens)"
   ]
  },
  {
   "cell_type": "markdown",
   "metadata": {},
   "source": [
    "Para este ejercicio en particular se preproceso aún más el texto. Se identificó de una manera un poco artesanal los encabezadas y pies de las páginas en donde contenían enlaces para eliminar estos segmentos en todos los documentos. Se hizo una revisión de que todas las páginas contuvieran estos segmentos y que los términos en específico que se utilizaba para ubicar estos segmentos no aparecieran en el texto para no eliminar contenido relevante. El resultado obtenido es el siguiente"
   ]
  },
  {
   "cell_type": "code",
   "execution_count": 40,
   "metadata": {},
   "outputs": [
    {
     "data": {
      "image/png": "[encoded data removed]",
      "text/plain": [
       "<Figure size 432x288 with 1 Axes>"
      ]
     },
     "metadata": {
      "needs_background": "light"
     },
     "output_type": "display_data"
    }
   ],
   "source": [
    "words = ['prian', 'corrupción', 'mafia', 'narco', 'gasolina', 'pipas', 'conacyt', 'ciencia', 'turismo', 'pandemia',\n",
    "        'coronavirus', 'covid', 'delta', 'omicron', 'vacuna', 'vacunación', 'huachicoleo', 'aeropuerto', 'macanear']\n",
    "ord_tokens.dispersion_plot(words)"
   ]
  },
  {
   "cell_type": "markdown",
   "metadata": {},
   "source": [
    "<h3> 4. Colocaciones </h3>"
   ]
  },
  {
   "cell_type": "markdown",
   "metadata": {},
   "source": [
    "<h4> 20 Bigramas </h4>"
   ]
  },
  {
   "cell_type": "code",
   "execution_count": null,
   "metadata": {},
   "outputs": [],
   "source": [
    "from nltk.collocations import *\n",
    "bigram_measures = nltk.collocations.BigramAssocMeasures()\n",
    "finder = BigramCollocationFinder.from_words(ord_tokens)"
   ]
  },
  {
   "cell_type": "code",
   "execution_count": 54,
   "metadata": {},
   "outputs": [
    {
     "data": {
      "text/plain": [
       "[('franklin', 'delano'),\n",
       " ('tzindia', 'cerda'),\n",
       " ('manlio', 'fabio'),\n",
       " ('alteza', 'serenísima'),\n",
       " ('antony', 'blinken'),\n",
       " ('chivo', 'expiatorio'),\n",
       " ('palomas', 'mensajeras'),\n",
       " ('tech', 'bull'),\n",
       " ('nadia', 'sanders'),\n",
       " ('cuencas', 'lecheras'),\n",
       " ('hondonada', 'sagarpa'),\n",
       " ('phumzile', 'mlambo-ngcuka'),\n",
       " ('emiratos', 'árabes'),\n",
       " ('nado', 'sincronizado'),\n",
       " ('trending', 'topic'),\n",
       " ('ye', 'gon'),\n",
       " ('hong', 'kong'),\n",
       " ('ponciano', 'arriaga'),\n",
       " ('zhenli', 'ye'),\n",
       " ('domos', 'geodésicos')]"
      ]
     },
     "execution_count": 54,
     "metadata": {},
     "output_type": "execute_result"
    }
   ],
   "source": [
    "finder.apply_freq_filter(10)\n",
    "finder.nbest(bigram_measures.pmi, 20)"
   ]
  },
  {
   "cell_type": "markdown",
   "metadata": {},
   "source": [
    "<h4> 30 Trigramas </h4>"
   ]
  },
  {
   "cell_type": "code",
   "execution_count": 56,
   "metadata": {},
   "outputs": [],
   "source": [
    "trigram_measures = nltk.collocations.TrigramAssocMeasures()\n",
    "tri_finder = TrigramCollocationFinder.from_words(ord_tokens)"
   ]
  },
  {
   "cell_type": "code",
   "execution_count": 69,
   "metadata": {},
   "outputs": [
    {
     "data": {
      "text/plain": [
       "[('zhenli', 'ye', 'gon'),\n",
       " ('franklin', 'delano', 'roosevelt'),\n",
       " ('world', 'justice', 'project'),\n",
       " ('fabiola', 'alanís', 'sámano'),\n",
       " ('lourdes', 'piña', 'soria'),\n",
       " ('ria', 'money', 'transfer'),\n",
       " ('gisela', 'lara', 'saldaña'),\n",
       " ('elba', 'esther', 'gordillo'),\n",
       " ('parezco', 'disco', 'rayado'),\n",
       " ('rock', 'and', 'roll'),\n",
       " ('martin', 'luther', 'king'),\n",
       " ('candelaria', 'ochoa', 'ávalos'),\n",
       " ('wall', 'street', 'journal'),\n",
       " ('félix', 'salgado', 'macedonio'),\n",
       " ('eduardo', 'redondo', 'arámburo'),\n",
       " ('paco', 'ignacio', 'taibo'),\n",
       " ('josefina', 'vázquez', 'mota'),\n",
       " ('nadine', 'gasman', 'zylbermann'),\n",
       " ('flora', 'gasman', 'zylbermann'),\n",
       " ('elena', 'álvarez-buylla', 'roces'),\n",
       " ('tanque', 'vertical', 'atmosférico'),\n",
       " ('omar', 'fayad', 'meneses'),\n",
       " ('parezca', 'disco', 'rayado'),\n",
       " ('daniel', 'cosío', 'villegas'),\n",
       " ('the', 'mexico', 'news'),\n",
       " ('adelfo', 'regino', 'montes'),\n",
       " ('rutilio', 'escandón', 'cadenas'),\n",
       " ('eduardo', 'esquivel', 'ancona'),\n",
       " ('valentín', 'gómez', 'farías'),\n",
       " ('vicepresidente', 'pino', 'suárez')]"
      ]
     },
     "execution_count": 69,
     "metadata": {},
     "output_type": "execute_result"
    }
   ],
   "source": [
    "tri_finder.apply_freq_filter(10)\n",
    "tri_finder.nbest(trigram_measures.pmi, 30)"
   ]
  },
  {
   "cell_type": "markdown",
   "metadata": {},
   "source": [
    "<h3> 5. Histograma de Longitud de Caracteres </h3>\n",
    "\n",
    "Primero obtenemos un objeto FreqDist con las longitudes de cada palabra. Luego obtenemos las 5 longitudes más largas e imprimimos la cantidad de palabras que tienen esta longitud. Finalmente construimos la lista de datos que le daremos al histograma para gráficar. Podemos ver que hay 8 palabras con longitudes entre 65 y 70."
   ]
  },
  {
   "cell_type": "code",
   "execution_count": 135,
   "metadata": {},
   "outputs": [
    {
     "name": "stdout",
     "output_type": "stream",
     "text": [
      "(size, number of words):  [(81, 1), (69, 1), (68, 7), (54, 1), (43, 3)]\n"
     ]
    },
    {
     "data": {
      "image/png": "[encoded data removed]",
      "text/plain": [
       "<Figure size 432x288 with 1 Axes>"
      ]
     },
     "metadata": {
      "needs_background": "light"
     },
     "output_type": "display_data"
    }
   ],
   "source": [
    "from nltk.probability import FreqDist\n",
    "import matplotlib.pyplot as plt\n",
    "\n",
    "# get lenghts of  words and their frequencies \n",
    "words = ord_tokens\n",
    "chars_dist = FreqDist(len(w) for w in words)\n",
    "\n",
    "# get 5 longest word sizes\n",
    "sizes = list(chars_dist.keys())\n",
    "sizes.sort(reverse=True)\n",
    "sizes = sizes[:5]\n",
    "\n",
    "print('(size, number of words): ', [(s, chars_dist[s]) for s in sizes])\n",
    "\n",
    "# build data array to send to hist\n",
    "data = []\n",
    "for s in sizes:\n",
    "    for _ in range(chars_dist[s]):\n",
    "        data.append(s)\n",
    "\n",
    "# plot hist\n",
    "plt.hist(data)\n",
    "plt.show()"
   ]
  },
  {
   "cell_type": "markdown",
   "metadata": {},
   "source": [
    "<h3> 6. Palabras con longitud mayor de 8 caracteres y frecuencia mayor de 5 </h3>"
   ]
  },
  {
   "cell_type": "code",
   "execution_count": 73,
   "metadata": {},
   "outputs": [
    {
     "data": {
      "text/plain": [
       "['estenográfica',\n",
       " 'conferencia',\n",
       " 'presidente',\n",
       " 'boletines',\n",
       " 'transcripciones',\n",
       " 'documentos',\n",
       " 'fotogalería',\n",
       " 'coronavirus',\n",
       " 'presidencia',\n",
       " 'biografía',\n",
       " 'acordamos',\n",
       " 'presentar',\n",
       " 'seguridad',\n",
       " 'resultados',\n",
       " 'mexicanos',\n",
       " 'trabajando',\n",
       " 'inseguridad',\n",
       " 'violencia',\n",
       " 'reuniones',\n",
       " 'tendencia',\n",
       " 'elementos',\n",
       " 'instrumentos',\n",
       " 'enfrentar',\n",
       " 'legalmente',\n",
       " 'corrupción',\n",
       " 'contubernio',\n",
       " 'autoridades',\n",
       " 'delincuencia',\n",
       " 'resolviendo',\n",
       " 'avanzando',\n",
       " 'garantizar',\n",
       " 'tranquilidad',\n",
       " 'publicado',\n",
       " 'diciembre',\n",
       " 'coordinada',\n",
       " 'institución',\n",
       " 'dependencia',\n",
       " 'trabajaba',\n",
       " 'perseverancia',\n",
       " 'atendiendo',\n",
       " 'importante',\n",
       " 'impunidad',\n",
       " 'construyendo',\n",
       " 'instalaciones',\n",
       " 'cuarteles',\n",
       " 'inteligencia',\n",
       " 'persiguiendo',\n",
       " 'opositores',\n",
       " 'propósito',\n",
       " 'estrategia']"
      ]
     },
     "execution_count": 73,
     "metadata": {},
     "output_type": "execute_result"
    }
   ],
   "source": [
    "from nltk.probability import FreqDist\n",
    "\n",
    "# build Frequentist Distribution\n",
    "freq_ord_tokens = FreqDist(ord_tokens) \n",
    "\n",
    "# get vocabulary through keys() and apply conditions\n",
    "[word for word in freq_ord_tokens.keys() if len(word) > 8 and freq_ord_tokens[word] > 5][:50]"
   ]
  },
  {
   "cell_type": "markdown",
   "metadata": {},
   "source": [
    "<h3> 7. Conditional Freq Dist Plot </h3>\n",
    "\n",
    "Palabras que incluyen 'pobre', 'corrup', e 'inseguridad' "
   ]
  },
  {
   "cell_type": "markdown",
   "metadata": {},
   "source": [
    "<h4> Construcción del Corpus </h4>"
   ]
  },
  {
   "cell_type": "code",
   "execution_count": 79,
   "metadata": {},
   "outputs": [
    {
     "data": {
      "text/plain": [
       "['2016-12-17',\n",
       " '2018-12-07',\n",
       " '2018-12-10',\n",
       " '2018-12-11',\n",
       " '2018-12-12',\n",
       " '2018-12-15',\n",
       " '2018-12-17',\n",
       " '2018-12-18',\n",
       " '2018-12-19',\n",
       " '2018-12-20']"
      ]
     },
     "execution_count": 79,
     "metadata": {},
     "output_type": "execute_result"
    }
   ],
   "source": [
    "from nltk.corpus import PlaintextCorpusReader\n",
    "\n",
    "# build the corpus\n",
    "corpus_root = 'conferencias_fecha/' \n",
    "conferencias = PlaintextCorpusReader(corpus_root, '.*')\n",
    "conferencias.fileids()[:10]"
   ]
  },
  {
   "cell_type": "code",
   "execution_count": 80,
   "metadata": {},
   "outputs": [
    {
     "data": {
      "text/plain": [
       "['17',\n",
       " '.',\n",
       " '12',\n",
       " '.',\n",
       " '16',\n",
       " 'Versión',\n",
       " 'estenográfica',\n",
       " 'de',\n",
       " 'la',\n",
       " 'conferencia']"
      ]
     },
     "execution_count": 80,
     "metadata": {},
     "output_type": "execute_result"
    }
   ],
   "source": [
    "conferencias.words('2016-12-17')[:10]"
   ]
  },
  {
   "cell_type": "markdown",
   "metadata": {},
   "source": [
    "<h4> Gráfica </h4>"
   ]
  },
  {
   "cell_type": "code",
   "execution_count": 84,
   "metadata": {},
   "outputs": [
    {
     "data": {
      "image/png": "[encoded data removed]",
      "text/plain": [
       "<Figure size 432x288 with 1 Axes>"
      ]
     },
     "metadata": {
      "needs_background": "light"
     },
     "output_type": "display_data"
    },
    {
     "data": {
      "text/plain": [
       "<AxesSubplot:xlabel='Samples', ylabel='Counts'>"
      ]
     },
     "execution_count": 84,
     "metadata": {},
     "output_type": "execute_result"
    }
   ],
   "source": [
    "cfd = nltk.ConditionalFreqDist(\n",
    "           (target, fileid[:4])\n",
    "           for fileid in conferencias.fileids()\n",
    "           for w in conferencias.words(fileid)\n",
    "           for target in ['pobre', 'corrup', 'inseguridad']\n",
    "           if w.lower().startswith(target))\n",
    "cfd.plot()"
   ]
  },
  {
   "cell_type": "markdown",
   "metadata": {},
   "source": [
    "<h3> 8. Cantidad de palabras con y sin stopwords </h3>\n",
    "\n",
    "Para este ejercicio construiremos un diccionario de stopwords. Esto porque si utilizamos la forma 'naive' de resolver el problema y construimos una lista de palabras verificando la condición de que la palabra no se encuentre en la lista de stopwords esto tomará demasiado tiempo, ya que la cantidad de palabras es grande y por cada una de ellas realizará una búsqueda lineal en la lista de stopwords. \n",
    "\n",
    "Sin embargo, si construimos un diccionario con las stopwords, la búsqueda es mucho más rápido ya que los diccionarios en python implementan una tabla hash, que es de tiempo de acceso amortiguado constante. "
   ]
  },
  {
   "cell_type": "code",
   "execution_count": 93,
   "metadata": {},
   "outputs": [
    {
     "name": "stderr",
     "output_type": "stream",
     "text": [
      "[nltk_data] Downloading package stopwords to /home/juan/nltk_data...\n",
      "[nltk_data]   Package stopwords is already up-to-date!\n"
     ]
    },
    {
     "name": "stdout",
     "output_type": "stream",
     "text": [
      "Cantidad de palabras con stopwords:  9234756\n",
      "Cantidad de palabras sin stopwords:  5161074\n"
     ]
    }
   ],
   "source": [
    "from nltk.corpus import stopwords\n",
    "nltk.download('stopwords')\n",
    "\n",
    "# build dictionary of stopwords\n",
    "stopwords_dict = {word:1 for word in stopwords.words('spanish')}\n",
    "\n",
    "# count words with and without stopwords\n",
    "print('Cantidad de palabras con stopwords: ', len(ord_tokens))\n",
    "print('Cantidad de palabras sin stopwords: ', len([word for word in ord_tokens if stopwords_dict.get(word) == None ]))"
   ]
  },
  {
   "cell_type": "markdown",
   "metadata": {},
   "source": [
    "<h3> 9. 300 Palabras más frecuentes </h3>\n",
    "\n",
    "Podemos ver que aparecen algunos símbolos de puntuación ya que estos no son considerados stopwords."
   ]
  },
  {
   "cell_type": "code",
   "execution_count": 114,
   "metadata": {},
   "outputs": [
    {
     "data": {
      "text/plain": [
       "[',',\n",
       " '.',\n",
       " ':',\n",
       " 'presidente',\n",
       " '¿',\n",
       " '?',\n",
       " 'si',\n",
       " 'lópez',\n",
       " 'manuel',\n",
       " 'obrador',\n",
       " 'andrés',\n",
       " 'entonces',\n",
       " 'va',\n",
       " 'vamos',\n",
       " 'méxico',\n",
       " ';',\n",
       " 'mil',\n",
       " 'gobierno',\n",
       " '-',\n",
       " 'aquí',\n",
       " 'dos',\n",
       " 'ahora',\n",
       " 'nacional',\n",
       " 'ver',\n",
       " 'pregunta',\n",
       " 'caso',\n",
       " 'país',\n",
       " 'días',\n",
       " 'millones',\n",
       " 'van',\n",
       " 'ahí',\n",
       " 'usted',\n",
       " 'cómo',\n",
       " 'pues',\n",
       " 'ser',\n",
       " 'hacer',\n",
       " 'bueno',\n",
       " 'señor',\n",
       " 'gracias',\n",
       " 'así',\n",
       " 'gente',\n",
       " 'pesos',\n",
       " '‘',\n",
       " 'salud',\n",
       " 'tema',\n",
       " 'ciento',\n",
       " '’',\n",
       " 'pueblo',\n",
       " 'decir',\n",
       " 'bien',\n",
       " '…',\n",
       " 'año',\n",
       " 'importante',\n",
       " 'tener',\n",
       " 'manera',\n",
       " 'hoy',\n",
       " 'puede',\n",
       " 'día',\n",
       " 'información',\n",
       " 'parte',\n",
       " 'tres',\n",
       " 'mismo',\n",
       " 'años',\n",
       " 'prensa',\n",
       " 'interlocutor',\n",
       " 'personas',\n",
       " 'buenos',\n",
       " 'seguridad',\n",
       " 'hace',\n",
       " 'tiempo',\n",
       " 'general',\n",
       " 'interlocutora',\n",
       " 'corrupción',\n",
       " 'todas',\n",
       " 'unidos',\n",
       " 'secretaría',\n",
       " 'luego',\n",
       " 'poder',\n",
       " 'ayer',\n",
       " 'muchas',\n",
       " 'acuerdo',\n",
       " 'sólo',\n",
       " 'voy',\n",
       " 'haciendo',\n",
       " 'programa',\n",
       " 'ustedes',\n",
       " 'además',\n",
       " 'federal',\n",
       " 'ciudad',\n",
       " '19',\n",
       " 'conferencia',\n",
       " 'trabajo',\n",
       " 'pública',\n",
       " 'empresas',\n",
       " 'covid',\n",
       " 'semana',\n",
       " 'ejemplo',\n",
       " 'cada',\n",
       " 'toda',\n",
       " 'haber',\n",
       " 'dar',\n",
       " 'siempre',\n",
       " 'secretario',\n",
       " 'casos',\n",
       " 'creo',\n",
       " 'vida',\n",
       " 'apoyo',\n",
       " 'momento',\n",
       " 'trabajadores',\n",
       " 'cabo',\n",
       " 'política',\n",
       " 'dinero',\n",
       " 'menos',\n",
       " '20',\n",
       " 'mejor',\n",
       " 'asunto',\n",
       " 'mañana',\n",
       " 'plan',\n",
       " 'versión',\n",
       " 'mexicanos',\n",
       " 'matutina',\n",
       " 'vez',\n",
       " 'cosas',\n",
       " 'hecho',\n",
       " 'ir',\n",
       " 'pemex',\n",
       " 'sino',\n",
       " 'proceso',\n",
       " 'estenográfica',\n",
       " 'social',\n",
       " 'seguir',\n",
       " 'bienestar',\n",
       " 'incluso',\n",
       " 'recursos',\n",
       " 'reforma',\n",
       " 'situación',\n",
       " 'cuatro',\n",
       " 'atención',\n",
       " 'todavía',\n",
       " 'jóvenes',\n",
       " 'pueden',\n",
       " 'derecho',\n",
       " 'presupuesto',\n",
       " 'quiero',\n",
       " 'sido',\n",
       " 'problema',\n",
       " 'mayor',\n",
       " 'guardia',\n",
       " 'centavos',\n",
       " 'podemos',\n",
       " 'mundo',\n",
       " '10',\n",
       " '(',\n",
       " 'cinco',\n",
       " 'proyecto',\n",
       " 'primera',\n",
       " 'nuevo',\n",
       " 'ley',\n",
       " 'primero',\n",
       " 'países',\n",
       " 'conocer',\n",
       " 'mujeres',\n",
       " 'precio',\n",
       " 'pasado',\n",
       " 'público',\n",
       " 'queremos',\n",
       " 'baja',\n",
       " 'dice',\n",
       " 'mayores',\n",
       " 'trabajando',\n",
       " 'elementos',\n",
       " 'después',\n",
       " 'vacuna',\n",
       " 'respecto',\n",
       " 'quién',\n",
       " 'empresa',\n",
       " 'sistema',\n",
       " 'hizo',\n",
       " 'informar',\n",
       " 'gran',\n",
       " ')',\n",
       " 'violencia',\n",
       " 'gas',\n",
       " 'república',\n",
       " 'vacunas',\n",
       " 'comisión',\n",
       " 'medios',\n",
       " 'da',\n",
       " 'población',\n",
       " 'número',\n",
       " 'investigación',\n",
       " 'instituto',\n",
       " 'derechos',\n",
       " 'preguntarle',\n",
       " 'debe',\n",
       " 'hablando',\n",
       " 'cuál',\n",
       " 'construcción',\n",
       " 'seis',\n",
       " 'fiscalía',\n",
       " 'tipo',\n",
       " 'personal',\n",
       " 'atender',\n",
       " 'cuenta',\n",
       " 'sector',\n",
       " 'desarrollo',\n",
       " 'pandemia',\n",
       " 'informe',\n",
       " 'hacia',\n",
       " 'veces',\n",
       " 'grupo',\n",
       " 'agua',\n",
       " 'educación',\n",
       " 'claro',\n",
       " 'justicia',\n",
       " 'favor',\n",
       " 'economía',\n",
       " 'mes',\n",
       " 'decía',\n",
       " 'forma',\n",
       " 'sé',\n",
       " 'adelante',\n",
       " 'nadie',\n",
       " 'mucha',\n",
       " 'dicho',\n",
       " 'adultos',\n",
       " 'gobernador',\n",
       " 'falta',\n",
       " 'tren',\n",
       " 'municipios',\n",
       " 'nueva',\n",
       " 'primer',\n",
       " 'vemos',\n",
       " 'nunca',\n",
       " 'precisamente',\n",
       " 'veracruz',\n",
       " 'defensa',\n",
       " 'casa',\n",
       " '–',\n",
       " 'allá',\n",
       " 'seguro',\n",
       " 'lugar',\n",
       " 'protección',\n",
       " 'niños',\n",
       " 'nivel',\n",
       " 'comunicación',\n",
       " 'hospitales',\n",
       " 'compromiso',\n",
       " 'servicio',\n",
       " 'constitución',\n",
       " 'sonora',\n",
       " 'centro',\n",
       " 'meses',\n",
       " 'total',\n",
       " 'marina',\n",
       " 'cambio',\n",
       " 'saber',\n",
       " 'respeto',\n",
       " 'buena',\n",
       " 'puedo',\n",
       " 'partir',\n",
       " 'ningún',\n",
       " 'través',\n",
       " 'humanos',\n",
       " 'iba',\n",
       " 'llegar',\n",
       " 'llevar',\n",
       " 'propósito',\n",
       " 'podría',\n",
       " '21',\n",
       " 'relación',\n",
       " 'periodo',\n",
       " '15',\n",
       " 'tan',\n",
       " 'secretaria',\n",
       " 'punto',\n",
       " 'segundo',\n",
       " 'medio',\n",
       " 'ciudadanos',\n",
       " 'dólares',\n",
       " 'autoridades',\n",
       " 'alguna',\n",
       " 'médicos',\n",
       " 'pueda',\n",
       " 'algún',\n",
       " 'gobiernos',\n",
       " 'reunión',\n",
       " 'segunda',\n",
       " 'vacunación',\n",
       " 'energía',\n",
       " 'aunque',\n",
       " 'acciones',\n",
       " 'democracia',\n",
       " 'verdad',\n",
       " 'aeropuerto',\n",
       " 'juárez',\n",
       " 'sociales',\n",
       " 'ocho',\n",
       " 'inversión',\n",
       " 'públicos']"
      ]
     },
     "execution_count": 114,
     "metadata": {},
     "output_type": "execute_result"
    }
   ],
   "source": [
    "from nltk.probability import FreqDist\n",
    "import numpy as np\n",
    "\n",
    "# remove stopwords\n",
    "stopwords_dict = {word:1 for word in stopwords.words('spanish')}\n",
    "words_no_sw = [word for word in ord_tokens if stopwords_dict.get(word) == None ]\n",
    "\n",
    "# build Frequentist Distribution\n",
    "freqDist = FreqDist(words_no_sw) \n",
    "\n",
    "# get words and their frequencies \n",
    "words = list(freqDist.keys())\n",
    "freqs = np.array(list(freqDist.values()))\n",
    "\n",
    "# get index of most frequent words in descending order\n",
    "args = np.argsort(freqs)[::-1]\n",
    "\n",
    "# get most frequent words\n",
    "words_by_freq = [words[i] for i in args[:300]]\n",
    "words_by_freq"
   ]
  },
  {
   "cell_type": "markdown",
   "metadata": {},
   "source": [
    "# 4. Otras librerías de Python"
   ]
  },
  {
   "cell_type": "markdown",
   "metadata": {},
   "source": [
    "<h3> 1. Librerías con Ventajas y Desventajas </h3>\n",
    "\n",
    "1. Spacy\n",
    "    * Ventaja: Es más rápida debido a que se encuentra construida con Cython, que es un conjunto de instrucciones en python que utiliza funciones core de C, y por lo tanto es más rápido.\n",
    "    * Desventaja: Debido a que está basado en C, el funcionamiento de a bajo nivel de la librería es más difícil o imposible de descifrar.\n",
    "\n",
    "2. TextBlob\n",
    "    * Ventaja: Provee traducción y detección de lenguajes utilizando el motor de Google Translate\n",
    "    * Desventaja: No provee características como vectores de palabras y es más lento que Spacy.\n",
    "\n"
   ]
  },
  {
   "cell_type": "markdown",
   "metadata": {},
   "source": [
    "<h3> 2. Librerías para otros lenguajes </h3>\n",
    "\n",
    "1. OpenNLP (Java)\n",
    "    * Ventaja: curva de aprendizaje reducida con buena documentación y muchos ejemplos en línea.\n",
    "    * Desventaja: carece de funciones avanzadas en comparación con CoreNLP.\n",
    "2. Stanford CoreNLP (Java)\n",
    "    * Ventaja: Provee funciones avanzadas. Además, por el paradigma de objetos es fácil de entender y manipular.  \n",
    "    * Desventaja: Requiere de más líneas de código para hacer un prototipo rápido"
   ]
  }
 ],
 "metadata": {
  "kernelspec": {
   "display_name": "nlp",
   "language": "python",
   "name": "nlp"
  },
  "language_info": {
   "codemirror_mode": {
    "name": "ipython",
    "version": 3
   },
   "file_extension": ".py",
   "mimetype": "text/x-python",
   "name": "python",
   "nbconvert_exporter": "python",
   "pygments_lexer": "ipython3",
   "version": "3.9.7"
  }
 },
 "nbformat": 4,
 "nbformat_minor": 4
}
