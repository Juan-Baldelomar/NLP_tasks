{
 "cells": [
  {
   "cell_type": "markdown",
   "metadata": {},
   "source": [
    "# Proyecto 1 - Juan Luis Baldelomar Cabrera"
   ]
  },
  {
   "cell_type": "code",
   "execution_count": 48,
   "metadata": {},
   "outputs": [],
   "source": [
    "import pandas\n",
    "import numpy as np\n",
    "\n",
    "from nltk import TweetTokenizer\n",
    "from nltk.corpus import stopwords\n",
    "\n",
    "from nltk.probability import FreqDist"
   ]
  },
  {
   "cell_type": "markdown",
   "metadata": {},
   "source": [
    "# Load Data"
   ]
  },
  {
   "cell_type": "code",
   "execution_count": 14,
   "metadata": {},
   "outputs": [],
   "source": [
    "import pandas\n",
    "xls = pandas.ExcelFile('Opiniones Tripadvisor_nlp2022.xlsx')\n",
    "ds1, ds1_name = pandas.read_excel(xls, 'BasilicaColegiata'), 'Basilica Colegiata'\n",
    "ds2, ds2_name = pandas.read_excel(xls, 'MercadoHidalgo'),    'Mercado Hidalgo'\n",
    "ds3, ds3_name = pandas.read_excel(xls, 'CasaDiegoRivera'),   'Casa de Diego Rivera'\n",
    "ds4, ds4_name = pandas.read_excel(xls, 'UG'),                'Universidad de Guanajuato'\n",
    "ds5, ds5_name = pandas.read_excel(xls, 'Alhondiga'),         'Alhondiga'\n",
    "ds6, ds6_name = pandas.read_excel(xls, 'TeatroJuarez'),      'Teatro Juarez'\n",
    "ds7, ds7_name = pandas.read_excel(xls, 'JardinUnion'),       'Jardin Union'\n",
    "ds8, ds8_name = pandas.read_excel(xls, 'CallejonBeso'),      'Callejon del Beso'\n",
    "ds9, ds9_name = pandas.read_excel(xls, 'Pipila'),            'Monumento al Pipila'\n",
    "ds10, ds10_name = pandas.read_excel(xls, 'MuseoMomias'),     'Museo de las Momias'"
   ]
  },
  {
   "cell_type": "code",
   "execution_count": 16,
   "metadata": {},
   "outputs": [
    {
     "data": {
      "text/html": [
       "<div>\n",
       "<style scoped>\n",
       "    .dataframe tbody tr th:only-of-type {\n",
       "        vertical-align: middle;\n",
       "    }\n",
       "\n",
       "    .dataframe tbody tr th {\n",
       "        vertical-align: top;\n",
       "    }\n",
       "\n",
       "    .dataframe thead th {\n",
       "        text-align: right;\n",
       "    }\n",
       "</style>\n",
       "<table border=\"1\" class=\"dataframe\">\n",
       "  <thead>\n",
       "    <tr style=\"text-align: right;\">\n",
       "      <th></th>\n",
       "      <th>Género</th>\n",
       "      <th>Edad</th>\n",
       "      <th>Nacional ó Internacional</th>\n",
       "      <th>Calificación</th>\n",
       "      <th>Escala</th>\n",
       "      <th>Número de aportaciones</th>\n",
       "      <th>Título de la opinión</th>\n",
       "      <th>Opinión</th>\n",
       "      <th>País</th>\n",
       "      <th>Idioma</th>\n",
       "      <th>Dispositivo</th>\n",
       "      <th>Fecha</th>\n",
       "    </tr>\n",
       "  </thead>\n",
       "  <tbody>\n",
       "    <tr>\n",
       "      <th>0</th>\n",
       "      <td>Femenino</td>\n",
       "      <td>64.0</td>\n",
       "      <td>Internacional</td>\n",
       "      <td>Muy bueno</td>\n",
       "      <td>4</td>\n",
       "      <td>175</td>\n",
       "      <td>\"Punto central\"</td>\n",
       "      <td>\"Basílica muy bien conservada, punto central e...</td>\n",
       "      <td>Colombia</td>\n",
       "      <td>Español</td>\n",
       "      <td>Móvil</td>\n",
       "      <td>2018-05-13</td>\n",
       "    </tr>\n",
       "    <tr>\n",
       "      <th>1</th>\n",
       "      <td>Masculino</td>\n",
       "      <td>59.0</td>\n",
       "      <td>Internacional</td>\n",
       "      <td>Excelente</td>\n",
       "      <td>5</td>\n",
       "      <td>306</td>\n",
       "      <td>\"The most important church in this colonial to...</td>\n",
       "      <td>\"The Basilica (Guanajuato does not have a Cath...</td>\n",
       "      <td>Colombia</td>\n",
       "      <td>Inglés</td>\n",
       "      <td>PC</td>\n",
       "      <td>2018-05-08</td>\n",
       "    </tr>\n",
       "    <tr>\n",
       "      <th>2</th>\n",
       "      <td>Femenino</td>\n",
       "      <td>26.0</td>\n",
       "      <td>Internacional</td>\n",
       "      <td>Excelente</td>\n",
       "      <td>5</td>\n",
       "      <td>106</td>\n",
       "      <td>\"Y uno de los símbolos de Guanajuato\"</td>\n",
       "      <td>\"Edificio de la iglesia amarilla es un abigarr...</td>\n",
       "      <td>Corea del Sur</td>\n",
       "      <td>Coreano</td>\n",
       "      <td>PC</td>\n",
       "      <td>2018-05-05</td>\n",
       "    </tr>\n",
       "    <tr>\n",
       "      <th>3</th>\n",
       "      <td>Masculino</td>\n",
       "      <td>50.0</td>\n",
       "      <td>Internacional</td>\n",
       "      <td>Excelente</td>\n",
       "      <td>5</td>\n",
       "      <td>62</td>\n",
       "      <td>\"Beautiful and a must see\"</td>\n",
       "      <td>\"A must see place in town and very nice to go ...</td>\n",
       "      <td>Estados Unidos</td>\n",
       "      <td>Inglés</td>\n",
       "      <td>PC</td>\n",
       "      <td>2018-05-01</td>\n",
       "    </tr>\n",
       "    <tr>\n",
       "      <th>4</th>\n",
       "      <td>Femenino</td>\n",
       "      <td>55.0</td>\n",
       "      <td>Internacional</td>\n",
       "      <td>Regular</td>\n",
       "      <td>3</td>\n",
       "      <td>59</td>\n",
       "      <td>\"Nice\"</td>\n",
       "      <td>\"Not particularly impressive, but if you like ...</td>\n",
       "      <td>Estados Unidos</td>\n",
       "      <td>Inglés</td>\n",
       "      <td>PC</td>\n",
       "      <td>2018-04-29</td>\n",
       "    </tr>\n",
       "    <tr>\n",
       "      <th>...</th>\n",
       "      <td>...</td>\n",
       "      <td>...</td>\n",
       "      <td>...</td>\n",
       "      <td>...</td>\n",
       "      <td>...</td>\n",
       "      <td>...</td>\n",
       "      <td>...</td>\n",
       "      <td>...</td>\n",
       "      <td>...</td>\n",
       "      <td>...</td>\n",
       "      <td>...</td>\n",
       "      <td>...</td>\n",
       "    </tr>\n",
       "    <tr>\n",
       "      <th>555</th>\n",
       "      <td>Femenino</td>\n",
       "      <td>43.0</td>\n",
       "      <td>Nacional</td>\n",
       "      <td>Muy bueno</td>\n",
       "      <td>4</td>\n",
       "      <td>12</td>\n",
       "      <td>\"Hermosa iglesia\"</td>\n",
       "      <td>\"Es un sitio lleno de contrastes. Fuera del te...</td>\n",
       "      <td>México</td>\n",
       "      <td>Español</td>\n",
       "      <td>PC</td>\n",
       "      <td>2011-12-03</td>\n",
       "    </tr>\n",
       "    <tr>\n",
       "      <th>556</th>\n",
       "      <td>Masculino</td>\n",
       "      <td>38.0</td>\n",
       "      <td>Internacional</td>\n",
       "      <td>Excelente</td>\n",
       "      <td>5</td>\n",
       "      <td>11</td>\n",
       "      <td>\"Historical\"</td>\n",
       "      <td>\"I walked into the Basilica and felt suddenly ...</td>\n",
       "      <td>Canadá</td>\n",
       "      <td>Inglés</td>\n",
       "      <td>PC</td>\n",
       "      <td>2011-09-17</td>\n",
       "    </tr>\n",
       "    <tr>\n",
       "      <th>557</th>\n",
       "      <td>Femenino</td>\n",
       "      <td>23.0</td>\n",
       "      <td>Nacional</td>\n",
       "      <td>Excelente</td>\n",
       "      <td>5</td>\n",
       "      <td>2</td>\n",
       "      <td>\"Basílica de Nuestra Señora de Guanajuato\"</td>\n",
       "      <td>\"Un lugar al buen estilo barroco, puedes admir...</td>\n",
       "      <td>México</td>\n",
       "      <td>Español</td>\n",
       "      <td>PC</td>\n",
       "      <td>2011-09-11</td>\n",
       "    </tr>\n",
       "    <tr>\n",
       "      <th>558</th>\n",
       "      <td>Femenino</td>\n",
       "      <td>49.0</td>\n",
       "      <td>Nacional</td>\n",
       "      <td>Excelente</td>\n",
       "      <td>5</td>\n",
       "      <td>60</td>\n",
       "      <td>\"Beautiful Church\"</td>\n",
       "      <td>\"The inside of this Church in Plaza la Paz, is...</td>\n",
       "      <td>México</td>\n",
       "      <td>Inglés</td>\n",
       "      <td>PC</td>\n",
       "      <td>2011-09-02</td>\n",
       "    </tr>\n",
       "    <tr>\n",
       "      <th>559</th>\n",
       "      <td>Masculino</td>\n",
       "      <td>65.0</td>\n",
       "      <td>Nacional</td>\n",
       "      <td>Excelente</td>\n",
       "      <td>5</td>\n",
       "      <td>22</td>\n",
       "      <td>\"Stop by &amp; take a peek:)\"</td>\n",
       "      <td>\"There is a gold organ in the loft. The entire...</td>\n",
       "      <td>México</td>\n",
       "      <td>Inglés</td>\n",
       "      <td>PC</td>\n",
       "      <td>2011-04-03</td>\n",
       "    </tr>\n",
       "  </tbody>\n",
       "</table>\n",
       "<p>560 rows × 12 columns</p>\n",
       "</div>"
      ],
      "text/plain": [
       "        Género  Edad Nacional ó Internacional Calificación  Escala  \\\n",
       "0     Femenino  64.0            Internacional    Muy bueno       4   \n",
       "1    Masculino  59.0            Internacional    Excelente       5   \n",
       "2     Femenino  26.0            Internacional    Excelente       5   \n",
       "3    Masculino  50.0            Internacional    Excelente       5   \n",
       "4     Femenino  55.0            Internacional      Regular       3   \n",
       "..         ...   ...                      ...          ...     ...   \n",
       "555   Femenino  43.0                 Nacional    Muy bueno       4   \n",
       "556  Masculino  38.0            Internacional    Excelente       5   \n",
       "557   Femenino  23.0                 Nacional    Excelente       5   \n",
       "558   Femenino  49.0                 Nacional    Excelente       5   \n",
       "559  Masculino  65.0                 Nacional    Excelente       5   \n",
       "\n",
       "     Número de aportaciones  \\\n",
       "0                       175   \n",
       "1                       306   \n",
       "2                       106   \n",
       "3                        62   \n",
       "4                        59   \n",
       "..                      ...   \n",
       "555                      12   \n",
       "556                      11   \n",
       "557                       2   \n",
       "558                      60   \n",
       "559                      22   \n",
       "\n",
       "                                  Título de la opinión  \\\n",
       "0                                      \"Punto central\"   \n",
       "1    \"The most important church in this colonial to...   \n",
       "2                \"Y uno de los símbolos de Guanajuato\"   \n",
       "3                           \"Beautiful and a must see\"   \n",
       "4                                               \"Nice\"   \n",
       "..                                                 ...   \n",
       "555                                  \"Hermosa iglesia\"   \n",
       "556                                       \"Historical\"   \n",
       "557         \"Basílica de Nuestra Señora de Guanajuato\"   \n",
       "558                                 \"Beautiful Church\"   \n",
       "559                          \"Stop by & take a peek:)\"   \n",
       "\n",
       "                                               Opinión            País  \\\n",
       "0    \"Basílica muy bien conservada, punto central e...        Colombia   \n",
       "1    \"The Basilica (Guanajuato does not have a Cath...        Colombia   \n",
       "2    \"Edificio de la iglesia amarilla es un abigarr...   Corea del Sur   \n",
       "3    \"A must see place in town and very nice to go ...  Estados Unidos   \n",
       "4    \"Not particularly impressive, but if you like ...  Estados Unidos   \n",
       "..                                                 ...             ...   \n",
       "555  \"Es un sitio lleno de contrastes. Fuera del te...          México   \n",
       "556  \"I walked into the Basilica and felt suddenly ...          Canadá   \n",
       "557  \"Un lugar al buen estilo barroco, puedes admir...          México   \n",
       "558  \"The inside of this Church in Plaza la Paz, is...          México   \n",
       "559  \"There is a gold organ in the loft. The entire...          México   \n",
       "\n",
       "      Idioma Dispositivo      Fecha  \n",
       "0    Español       Móvil 2018-05-13  \n",
       "1     Inglés          PC 2018-05-08  \n",
       "2    Coreano          PC 2018-05-05  \n",
       "3     Inglés          PC 2018-05-01  \n",
       "4     Inglés          PC 2018-04-29  \n",
       "..       ...         ...        ...  \n",
       "555  Español          PC 2011-12-03  \n",
       "556   Inglés          PC 2011-09-17  \n",
       "557  Español          PC 2011-09-11  \n",
       "558   Inglés          PC 2011-09-02  \n",
       "559   Inglés          PC 2011-04-03  \n",
       "\n",
       "[560 rows x 12 columns]"
      ]
     },
     "execution_count": 16,
     "metadata": {},
     "output_type": "execute_result"
    }
   ],
   "source": [
    "ds1"
   ]
  },
  {
   "cell_type": "code",
   "execution_count": 15,
   "metadata": {},
   "outputs": [],
   "source": [
    "datasets = [ds1, ds2, ds3, ds4, ds5, ds6, ds7, ds8, ds9, ds10]\n",
    "ds_names = [ds1_name, ds2_name, ds3_name, ds4_name, ds5_name, ds6_name, ds7_name, ds8_name, ds9_name, ds10_name]"
   ]
  },
  {
   "cell_type": "code",
   "execution_count": null,
   "metadata": {},
   "outputs": [],
   "source": [
    "all_docs = []\n",
    "for ds in datasets:\n",
    "    docs = list(ds['Opinión'])"
   ]
  },
  {
   "cell_type": "markdown",
   "metadata": {},
   "source": [
    "# Utilities"
   ]
  },
  {
   "cell_type": "code",
   "execution_count": 20,
   "metadata": {},
   "outputs": [],
   "source": [
    "def bold_string(string):\n",
    "    return '\\033[1m' + string + '\\033[0m '\n",
    "\n",
    "def dummy(doc):\n",
    "    return doc"
   ]
  },
  {
   "cell_type": "code",
   "execution_count": 65,
   "metadata": {},
   "outputs": [],
   "source": [
    "from nltk import TweetTokenizer\n",
    "from nltk.corpus import stopwords\n",
    "\n",
    "def process_documents(documents):\n",
    "    docs = []\n",
    "    tokenizer = TweetTokenizer()\n",
    "    for doc in documents:\n",
    "        docs.append(tokenizer.tokenize(doc.lower().replace('\\\"','')))\n",
    "        \n",
    "    return docs\n",
    "\n",
    "def get_vocabulary(docs, size=-1):\n",
    "    tokens = [word for doc in docs for word in doc]\n",
    "    voc = FreqDist(tokens).most_common(size) if size!= -1 else FreqDist(tokens).most_common()\n",
    "    voc_dict = {}\n",
    "    for i, (word, _) in enumerate(voc):\n",
    "        voc_dict[word] = i\n",
    "        \n",
    "    return voc_dict"
   ]
  },
  {
   "cell_type": "code",
   "execution_count": 37,
   "metadata": {},
   "outputs": [],
   "source": [
    "from sklearn.feature_extraction.text import CountVectorizer as bow_builder\n",
    "from sklearn.feature_selection import chi2 \n",
    "\n",
    "def chi_sqr(tf_matrix, labels):\n",
    "    Nt = len(tf_matrix)\n",
    "    n_i = np.sum(tf_matrix>0, axis=0)\n",
    "    n_i1 = np.sum((tf_matrix * labels)>0, axis=0)\n",
    "    n_i0 = np.sum((tf_matrix * (1-labels))>0, axis=0)\n",
    "    n_1 = np.sum(labels, axis=0)\n",
    "    n_0 = Nt - n_1\n",
    "    # compute chi\n",
    "    chi_1 = Nt*(Nt * n_i1 - n_1 * n_i)**2/(n_1 * n_i * (Nt - n_1) * (Nt - n_i))\n",
    "    chi_0 = Nt*(Nt * n_i0 - n_0 * n_i)**2/(n_0 * n_i * (Nt - n_0) * (Nt - n_i))\n",
    "    \n",
    "    # get chi average\n",
    "    chi_avg = n_1/Nt * chi_1 +  n_0/Nt * chi_0 \n",
    "    \n",
    "    return np.nan_to_num(chi_avg)\n",
    "\n",
    "def reduce_dims(bow, voc_index, labels, n=-1, limit=-1):\n",
    "    # compute chi avg\n",
    "    chi_avg = chi_sqr(bow, np.array(labels)[:, np.newaxis])\n",
    "    lim = np.mean(chi_avg) if limit==-1 else limit\n",
    "    \n",
    "    new_dict = {}\n",
    "    counter = 0\n",
    "    \n",
    "    if n != -1:\n",
    "        n_max_chi = np.flip(np.argsort(chi_avg))[:n]\n",
    "        voc_index_list = list(voc_index)\n",
    "        for i, index in enumerate(n_max_chi):\n",
    "            word = voc_index_list[index]\n",
    "            new_dict[word] = i\n",
    "        chi_avg = chi_avg[n_max_chi]\n",
    "    else:\n",
    "        for i, word in enumerate(voc_index.keys()):\n",
    "            if chi_avg[i] >= lim:\n",
    "                new_dict[word] = counter\n",
    "                counter += 1\n",
    "        chi_avg = chi_avg[chi_avg>=lim]\n",
    "        \n",
    "    return new_dict, chi_avg\n",
    "\n",
    "def get_features(documents, labels, n, T=10000):\n",
    "    bow_builder = BoWBuilder()\n",
    "    bow = bow_builder.build_bow(documents, T=T, weight_scheme='tf')\n",
    "    voc_index, chi = reduce_dims(bow, bow_builder.voc_index, labels, n=n)\n",
    "    return voc_index, chi"
   ]
  },
  {
   "cell_type": "code",
   "execution_count": 66,
   "metadata": {},
   "outputs": [
    {
     "data": {
      "text/plain": [
       "array(['bonito', 'hola', 'mundo', 'documento', 'numero', '2', 'orale',\n",
       "       'que', 'es', 'lo'], dtype=object)"
      ]
     },
     "execution_count": 66,
     "metadata": {},
     "output_type": "execute_result"
    }
   ],
   "source": [
    "docs = [['hola', 'mundo'],['documento', 'numero', '2', 'orale'],['que', 'bonito', 'es', 'lo', 'bonito']]\n",
    "vocabulary = get_vocabulary(docs)\n",
    "bow_b = bow_builder(max_features=10000, vocabulary=vocabulary, binary=False, tokenizer=dummy, preprocessor=dummy, stop_words=['hola'])\n",
    "bow = bow_b.transform(docs)\n",
    "bow_b.get_feature_names_out()"
   ]
  },
  {
   "cell_type": "code",
   "execution_count": 67,
   "metadata": {},
   "outputs": [
    {
     "data": {
      "text/plain": [
       "array([[0, 0, 1, 0, 0, 0, 0, 0, 0, 0],\n",
       "       [0, 0, 0, 1, 1, 1, 1, 0, 0, 0],\n",
       "       [2, 0, 0, 0, 0, 0, 0, 1, 1, 1]])"
      ]
     },
     "execution_count": 67,
     "metadata": {},
     "output_type": "execute_result"
    }
   ],
   "source": [
    "bow.toarray()"
   ]
  },
  {
   "cell_type": "markdown",
   "metadata": {},
   "source": [
    "# Estadísticas"
   ]
  },
  {
   "cell_type": "code",
   "execution_count": 72,
   "metadata": {},
   "outputs": [],
   "source": [
    "import matplotlib.pyplot as plt"
   ]
  },
  {
   "cell_type": "markdown",
   "metadata": {},
   "source": [
    "## Promedio de Puntuación"
   ]
  },
  {
   "cell_type": "code",
   "execution_count": 43,
   "metadata": {},
   "outputs": [
    {
     "name": "stdout",
     "output_type": "stream",
     "text": [
      "\u001b[1mBasilica Colegiata\u001b[0m               puntuación media: 4.50 \t std dev: 0.67\n",
      "\u001b[1mMercado Hidalgo\u001b[0m                  puntuación media: 3.95 \t std dev: 0.95\n",
      "\u001b[1mCasa de Diego Rivera\u001b[0m             puntuación media: 4.24 \t std dev: 0.80\n",
      "\u001b[1mUniversidad de Guanajuato\u001b[0m        puntuación media: 4.60 \t std dev: 0.61\n",
      "\u001b[1mAlhondiga\u001b[0m                        puntuación media: 4.45 \t std dev: 0.75\n",
      "\u001b[1mTeatro Juarez\u001b[0m                    puntuación media: 4.70 \t std dev: 0.52\n",
      "\u001b[1mJardin Union\u001b[0m                     puntuación media: 4.59 \t std dev: 0.61\n",
      "\u001b[1mCallejon del Beso\u001b[0m                puntuación media: 4.00 \t std dev: 0.97\n",
      "\u001b[1mMonumento al Pipila\u001b[0m              puntuación media: 4.38 \t std dev: 0.77\n",
      "\u001b[1mMuseo de las Momias\u001b[0m              puntuación media: 3.68 \t std dev: 1.14\n"
     ]
    }
   ],
   "source": [
    "for ds, name in zip(datasets, ds_names):\n",
    "    scores = np.array(list(map(int, ds['Escala'])))\n",
    "    print('{0:40} puntuación media: {1:.2f} \\t std dev: {2:.2f}'.format(bold_string(name), np.mean(scores), np.std(scores)))"
   ]
  },
  {
   "cell_type": "markdown",
   "metadata": {},
   "source": [
    "## Longitud Promedio de Comentarios"
   ]
  },
  {
   "cell_type": "code",
   "execution_count": 71,
   "metadata": {},
   "outputs": [
    {
     "name": "stdout",
     "output_type": "stream",
     "text": [
      "\u001b[1mBasilica Colegiata\u001b[0m               longitud media de opiniones: 46.35 \t std dev: 32.55\n",
      "\u001b[1mMercado Hidalgo\u001b[0m                  longitud media de opiniones: 53.68 \t std dev: 38.05\n",
      "\u001b[1mCasa de Diego Rivera\u001b[0m             longitud media de opiniones: 56.77 \t std dev: 33.55\n",
      "\u001b[1mUniversidad de Guanajuato\u001b[0m        longitud media de opiniones: 41.49 \t std dev: 22.25\n",
      "\u001b[1mAlhondiga\u001b[0m                        longitud media de opiniones: 53.59 \t std dev: 37.36\n",
      "\u001b[1mTeatro Juarez\u001b[0m                    longitud media de opiniones: 48.47 \t std dev: 29.93\n",
      "\u001b[1mJardin Union\u001b[0m                     longitud media de opiniones: 50.84 \t std dev: 41.72\n",
      "\u001b[1mCallejon del Beso\u001b[0m                longitud media de opiniones: 52.45 \t std dev: 36.60\n",
      "\u001b[1mMonumento al Pipila\u001b[0m              longitud media de opiniones: 54.80 \t std dev: 40.15\n",
      "\u001b[1mMuseo de las Momias\u001b[0m              longitud media de opiniones: 67.15 \t std dev: 51.98\n"
     ]
    }
   ],
   "source": [
    "for ds, name in zip(datasets, ds_names):\n",
    "    opinions = list(ds['Opinión'])\n",
    "    opinions = process_documents(opinions)\n",
    "    opinion_nWords = np.array([len(opinion) for opinion in opinions])\n",
    "    print('{0:40} longitud media de opiniones: {1:.2f} \\t std dev: {2:.2f}'.format(bold_string(name), np.mean(opinion_nWords), np.std(opinion_nWords)))"
   ]
  },
  {
   "cell_type": "markdown",
   "metadata": {},
   "source": [
    "## Promedio de Edades"
   ]
  },
  {
   "cell_type": "code",
   "execution_count": 42,
   "metadata": {},
   "outputs": [
    {
     "name": "stdout",
     "output_type": "stream",
     "text": [
      "\u001b[1mBasilica Colegiata\u001b[0m               edad media: 41.87 \t std dev: 14.82\n",
      "\u001b[1mMercado Hidalgo\u001b[0m                  edad media: 40.69 \t std dev: 15.07\n",
      "\u001b[1mCasa de Diego Rivera\u001b[0m             edad media: 44.35 \t std dev: 15.11\n",
      "\u001b[1mUniversidad de Guanajuato\u001b[0m        edad media: 39.31 \t std dev: 13.92\n",
      "\u001b[1mAlhondiga\u001b[0m                        edad media: 40.71 \t std dev: 13.34\n",
      "\u001b[1mTeatro Juarez\u001b[0m                    edad media: 41.75 \t std dev: 13.81\n",
      "\u001b[1mJardin Union\u001b[0m                     edad media: 41.39 \t std dev: 14.88\n",
      "\u001b[1mCallejon del Beso\u001b[0m                edad media: 38.83 \t std dev: 13.33\n",
      "\u001b[1mMonumento al Pipila\u001b[0m              edad media: 38.44 \t std dev: 13.05\n",
      "\u001b[1mMuseo de las Momias\u001b[0m              edad media: 38.96 \t std dev: 12.88\n"
     ]
    }
   ],
   "source": [
    "for ds, name in zip(datasets, ds_names):\n",
    "    scores = np.array(list(map(float, ds['Edad'])))\n",
    "    print('{0:40} edad media: {1:.2f} \\t std dev: {2:.2f}'.format(bold_string(name), np.nanmean(scores), np.nanstd(scores)))"
   ]
  },
  {
   "cell_type": "code",
   "execution_count": 74,
   "metadata": {},
   "outputs": [
    {
     "data": {
      "image/png": "[encoded data removed]",
      "text/plain": [
       "<Figure size 2160x2160 with 10 Axes>"
      ]
     },
     "metadata": {
      "needs_background": "light"
     },
     "output_type": "display_data"
    }
   ],
   "source": [
    "plt.figure(figsize=(30, 30))\n",
    "for i, (ds, name) in enumerate(zip(datasets, ds_names)):\n",
    "    ages = np.array(list(map(float, ds['Edad'])))\n",
    "    plt.subplot(5, 2, i+1)\n",
    "    plt.title(name)\n",
    "    plt.hist(ages)\n",
    "plt.show()"
   ]
  }
 ],
 "metadata": {
  "kernelspec": {
   "display_name": "nlp",
   "language": "python",
   "name": "nlp"
  },
  "language_info": {
   "codemirror_mode": {
    "name": "ipython",
    "version": 3
   },
   "file_extension": ".py",
   "mimetype": "text/x-python",
   "name": "python",
   "nbconvert_exporter": "python",
   "pygments_lexer": "ipython3",
   "version": "3.9.7"
  }
 },
 "nbformat": 4,
 "nbformat_minor": 4
}
